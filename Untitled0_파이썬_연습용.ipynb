{
  "nbformat": 4,
  "nbformat_minor": 0,
  "metadata": {
    "colab": {
      "provenance": [],
      "authorship_tag": "ABX9TyN5Ghdju04w78snKtrmp1U3",
      "include_colab_link": true
    },
    "kernelspec": {
      "name": "python3",
      "display_name": "Python 3"
    },
    "language_info": {
      "name": "python"
    }
  },
  "cells": [
    {
      "cell_type": "markdown",
      "metadata": {
        "id": "view-in-github",
        "colab_type": "text"
      },
      "source": [
        "<a href=\"https://colab.research.google.com/github/SEOWOOJI/Intro2Dept/blob/main/Untitled0_%ED%8C%8C%EC%9D%B4%EC%8D%AC_%EC%97%B0%EC%8A%B5%EC%9A%A9.ipynb\" target=\"_parent\"><img src=\"https://colab.research.google.com/assets/colab-badge.svg\" alt=\"Open In Colab\"/></a>"
      ]
    },
    {
      "cell_type": "code",
      "source": [
        "a='Pithon'\n",
        "a[:1]+'y'+a[2:]"
      ],
      "metadata": {
        "colab": {
          "base_uri": "https://localhost:8080/",
          "height": 35
        },
        "id": "xroo99vk6X8Y",
        "outputId": "a3ee06b7-3f03-4172-ef91-c55787d54e76"
      },
      "execution_count": 56,
      "outputs": [
        {
          "output_type": "execute_result",
          "data": {
            "text/plain": [
              "'Python'"
            ],
            "application/vnd.google.colaboratory.intrinsic+json": {
              "type": "string"
            }
          },
          "metadata": {},
          "execution_count": 56
        }
      ]
    },
    {
      "cell_type": "code",
      "source": [
        "a='20230331Rainy'\n",
        "year=a[:4]\n",
        "day=a[4:8]\n",
        "date=a[:8]\n",
        "weather=a[8:]\n",
        "day"
      ],
      "metadata": {
        "colab": {
          "base_uri": "https://localhost:8080/",
          "height": 35
        },
        "id": "I0I4VSWq52TJ",
        "outputId": "a5a7315d-c161-4ac9-a5f1-3b16e776b004"
      },
      "execution_count": 49,
      "outputs": [
        {
          "output_type": "execute_result",
          "data": {
            "text/plain": [
              "'0331'"
            ],
            "application/vnd.google.colaboratory.intrinsic+json": {
              "type": "string"
            }
          },
          "metadata": {},
          "execution_count": 49
        }
      ]
    },
    {
      "cell_type": "code",
      "source": [
        "a='Life is too short, You need python'\n",
        "b=a[0]+a[1]+a[2]+a[3]\n",
        "print(b)\n",
        "print(a[0:4])\n",
        "print(a[0:5])\n",
        "print(a[5:7])\n",
        "print(a[12:17])\n",
        "print(a[19:])\n",
        "print(a[:17])\n",
        "print(a[:])\n",
        "print(a[19:-7])"
      ],
      "metadata": {
        "colab": {
          "base_uri": "https://localhost:8080/"
        },
        "id": "pbpMSK8O33H9",
        "outputId": "49cf6033-5f1c-4382-fc59-ff857bd4a24d"
      },
      "execution_count": 42,
      "outputs": [
        {
          "output_type": "stream",
          "name": "stdout",
          "text": [
            "Life\n",
            "Life\n",
            "Life \n",
            "is\n",
            "short\n",
            "You need python\n",
            "Life is too short\n",
            "Life is too short, You need python\n",
            "You need\n"
          ]
        }
      ]
    },
    {
      "cell_type": "code",
      "source": [
        "a='Life is too short, You need python'\n",
        "print(a[0])\n",
        "print(a[12])\n",
        "print(a[-1])\n",
        "print(a[-0])\n",
        "print(a[-2])\n",
        "print(a[-5])"
      ],
      "metadata": {
        "colab": {
          "base_uri": "https://localhost:8080/"
        },
        "id": "DwsQjHQP3Awb",
        "outputId": "5cf1a515-8fab-435b-f241-f4c5c7eb9e8f"
      },
      "execution_count": 26,
      "outputs": [
        {
          "output_type": "stream",
          "name": "stdout",
          "text": [
            "L\n",
            "s\n",
            "n\n",
            "L\n",
            "o\n",
            "y\n"
          ]
        }
      ]
    },
    {
      "cell_type": "code",
      "source": [
        "a='Life is too short'\n",
        "b='You need python'\n",
        "print(len(a),len(b))"
      ],
      "metadata": {
        "colab": {
          "base_uri": "https://localhost:8080/"
        },
        "id": "JNLTdUYF2Y71",
        "outputId": "fe1285d4-1ac7-4f96-9a61-52e86c6f1f7f"
      },
      "execution_count": 21,
      "outputs": [
        {
          "output_type": "stream",
          "name": "stdout",
          "text": [
            "17 15\n"
          ]
        }
      ]
    },
    {
      "cell_type": "code",
      "source": [
        "a='python'\n",
        "print(a*2)\n",
        "\n",
        "print('='*50)\n",
        "print('My Program')\n",
        "print('='*50)"
      ],
      "metadata": {
        "colab": {
          "base_uri": "https://localhost:8080/"
        },
        "id": "qhA3MWEe1yCa",
        "outputId": "ede733c4-f059-4961-cc99-8da3dad5e3a6"
      },
      "execution_count": 14,
      "outputs": [
        {
          "output_type": "stream",
          "name": "stdout",
          "text": [
            "pythonpython\n",
            "==================================================\n",
            "My Program\n",
            "==================================================\n"
          ]
        }
      ]
    },
    {
      "cell_type": "code",
      "source": [
        "head='Python'\n",
        "tail=' is fun!'\n",
        "head+tail"
      ],
      "metadata": {
        "colab": {
          "base_uri": "https://localhost:8080/",
          "height": 35
        },
        "id": "lKBvMn9A1ggF",
        "outputId": "416dc6ff-395b-49f3-c7bc-21c177f5b320"
      },
      "execution_count": 11,
      "outputs": [
        {
          "output_type": "execute_result",
          "data": {
            "text/plain": [
              "'Python is fun!'"
            ],
            "application/vnd.google.colaboratory.intrinsic+json": {
              "type": "string"
            }
          },
          "metadata": {},
          "execution_count": 11
        }
      ]
    },
    {
      "cell_type": "code",
      "source": [
        "m=\"Life is too short\\nYou need python\"\n",
        "print(m)\n",
        "\n",
        "m='''\n",
        "Life is too short\n",
        "You need python\n",
        "'''\n",
        "print(m)"
      ],
      "metadata": {
        "colab": {
          "base_uri": "https://localhost:8080/"
        },
        "id": "BfftPvvM0kvs",
        "outputId": "00869a2f-08eb-4db2-b324-aebc60ed538d"
      },
      "execution_count": 9,
      "outputs": [
        {
          "output_type": "stream",
          "name": "stdout",
          "text": [
            "Life is too short\n",
            "You need python\n",
            "\n",
            "Life is too short\n",
            "You need python\n",
            "\n"
          ]
        }
      ]
    },
    {
      "cell_type": "code",
      "source": [
        "say='\"Python is so easy.\"he says.'\n",
        "print(say)\n",
        "\n",
        "say=\"\\\"Python is so easy.\\\"he says.\"\n",
        "print(say)"
      ],
      "metadata": {
        "colab": {
          "base_uri": "https://localhost:8080/"
        },
        "id": "l__EVh9g7myc",
        "outputId": "ba7f3fae-8e16-41dc-e5f0-2000c13599e5"
      },
      "execution_count": 2,
      "outputs": [
        {
          "output_type": "stream",
          "name": "stdout",
          "text": [
            "\"Python is so easy.\"he says.\n",
            "\"Python is so easy.\"he says.\n"
          ]
        }
      ]
    },
    {
      "cell_type": "code",
      "source": [
        "food=\"Python's favorite food is perl\"\n",
        "print(food)\n",
        "food='Python\\'s favorite food is perl'\n",
        "print(food)"
      ],
      "metadata": {
        "colab": {
          "base_uri": "https://localhost:8080/"
        },
        "id": "BYN2Eksq7QFh",
        "outputId": "1fac73df-d23e-4b03-ceeb-e52f2d9eab3f"
      },
      "execution_count": 4,
      "outputs": [
        {
          "output_type": "stream",
          "name": "stdout",
          "text": [
            "Python's favorite food is perl\n",
            "Python's favorite food is perl\n"
          ]
        }
      ]
    },
    {
      "cell_type": "code",
      "source": [
        "a=14/3\n",
        "b=14//3\n",
        "c=14%3\n",
        "print(a,b,c)"
      ],
      "metadata": {
        "colab": {
          "base_uri": "https://localhost:8080/"
        },
        "id": "ILsDu0aQ6qg_",
        "outputId": "092ab3db-0d47-427a-d2d1-35e789c7442b"
      },
      "execution_count": null,
      "outputs": [
        {
          "output_type": "stream",
          "name": "stdout",
          "text": [
            "4.666666666666667 4 2\n"
          ]
        }
      ]
    },
    {
      "cell_type": "code",
      "source": [
        "a=3\n",
        "b=4\n",
        "print(a**b)\n",
        "\n",
        "print(10*18**2+2*11)"
      ],
      "metadata": {
        "colab": {
          "base_uri": "https://localhost:8080/"
        },
        "id": "ET0SdNlb6COT",
        "outputId": "4cb0ae69-c696-4f20-e341-1fdc8e71f52a"
      },
      "execution_count": null,
      "outputs": [
        {
          "output_type": "stream",
          "name": "stdout",
          "text": [
            "81\n",
            "3262\n"
          ]
        }
      ]
    },
    {
      "cell_type": "code",
      "source": [
        "a=4.24E10\n",
        "b=4.24e-10\n",
        "print(a,b)"
      ],
      "metadata": {
        "colab": {
          "base_uri": "https://localhost:8080/"
        },
        "id": "1WBvEONy4_p7",
        "outputId": "fd534f4c-2c95-4a9a-93f8-bfd9f7100aa9"
      },
      "execution_count": null,
      "outputs": [
        {
          "output_type": "stream",
          "name": "stdout",
          "text": [
            "42400000000.0 4.24e-10\n"
          ]
        }
      ]
    },
    {
      "cell_type": "code",
      "source": [
        "def add(a,b):\n",
        "  return a+b\n",
        "add(3,4)"
      ],
      "metadata": {
        "colab": {
          "base_uri": "https://localhost:8080/"
        },
        "id": "9_wUd4ka4LXD",
        "outputId": "8cbcfb6d-3008-456d-c7fb-b6d2a77dab16"
      },
      "execution_count": null,
      "outputs": [
        {
          "output_type": "execute_result",
          "data": {
            "text/plain": [
              "7"
            ]
          },
          "metadata": {},
          "execution_count": 12
        }
      ]
    },
    {
      "cell_type": "code",
      "source": [
        "i=0\n",
        "while i<3:\n",
        "  i=i+1\n",
        "  print(i)"
      ],
      "metadata": {
        "colab": {
          "base_uri": "https://localhost:8080/"
        },
        "id": "RZOhYx8w3y_F",
        "outputId": "be140768-3577-446b-85e5-4c5e4d823431"
      },
      "execution_count": null,
      "outputs": [
        {
          "output_type": "stream",
          "name": "stdout",
          "text": [
            "1\n",
            "2\n",
            "3\n"
          ]
        }
      ]
    },
    {
      "cell_type": "code",
      "source": [
        "for a in [1,2,3]:\n",
        "  print(a)"
      ],
      "metadata": {
        "colab": {
          "base_uri": "https://localhost:8080/"
        },
        "id": "Yy_fUdpr3lww",
        "outputId": "7e5950b4-72ca-4281-f6ff-526c4b42d3bc"
      },
      "execution_count": null,
      "outputs": [
        {
          "output_type": "stream",
          "name": "stdout",
          "text": [
            "1\n",
            "2\n",
            "3\n"
          ]
        }
      ]
    },
    {
      "cell_type": "code",
      "source": [
        "a=3\n",
        "if a>1:\n",
        "  print('a는 1보다 큽니다.')"
      ],
      "metadata": {
        "colab": {
          "base_uri": "https://localhost:8080/"
        },
        "id": "BeApUfnOv5QA",
        "outputId": "0eae3622-1616-4a54-a379-73431051333c"
      },
      "execution_count": null,
      "outputs": [
        {
          "output_type": "stream",
          "name": "stdout",
          "text": [
            "a는 1보다 큽니다.\n"
          ]
        }
      ]
    },
    {
      "cell_type": "code",
      "execution_count": null,
      "metadata": {
        "colab": {
          "base_uri": "https://localhost:8080/"
        },
        "id": "ndECCPf-vFEr",
        "outputId": "1e5d0ceb-baf1-44fc-c002-24509e8fbd95"
      },
      "outputs": [
        {
          "output_type": "stream",
          "name": "stdout",
          "text": [
            "4가 없습니다.\n"
          ]
        }
      ],
      "source": [
        "if 4 in [1,2,3] : print(\"4가 있습니다.\")\n",
        "else : print(\"4가 없습니다.\")"
      ]
    }
  ]
}